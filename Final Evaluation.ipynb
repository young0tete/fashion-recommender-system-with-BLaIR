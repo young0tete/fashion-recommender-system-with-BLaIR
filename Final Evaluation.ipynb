{
 "cells": [
  {
   "cell_type": "code",
   "execution_count": 2,
   "id": "2f79e202",
   "metadata": {},
   "outputs": [],
   "source": [
    "from get_cosine_sim import calculate_cosine, blending\n",
    "import pandas as pd\n",
    "import json"
   ]
  },
  {
   "cell_type": "code",
   "execution_count": 3,
   "id": "b660a9ef",
   "metadata": {},
   "outputs": [],
   "source": [
    "reviews=pd.read_csv('user_review_with_LLM.csv')\n",
    "# item=pd.read_csv('item.csv')\n",
    "item=pd.read_csv('item2.csv')\n",
    "# test=pd.read_csv('graph_test.csv')\n",
    "test=pd.read_csv('graph2_test.csv')"
   ]
  },
  {
   "cell_type": "code",
   "execution_count": 4,
   "id": "c7010a8d",
   "metadata": {},
   "outputs": [],
   "source": [
    "with open('top_k_predictions_rating.json', 'r') as json_file:\n",
    "    ngcf_rating = json.load(json_file)\n",
    "with open('top_k_predictions_sentiment.json', 'r') as json_file:\n",
    "    ngcf_sent = json.load(json_file)\n",
    "with open('top_k_predictions_rating_sentiment.json', 'r') as json_file:\n",
    "    ngcf_blend = json.load(json_file)"
   ]
  },
  {
   "cell_type": "code",
   "execution_count": 5,
   "id": "edc9c9cb",
   "metadata": {},
   "outputs": [],
   "source": [
    "# evaluation function\n",
    "def calculate_recall (final_prediction, test):\n",
    "    gt_user, gt_item = list(test['user_id']), list(test['item_id'])\n",
    "    \n",
    "    cnt=0\n",
    "\n",
    "    for i in range(test.shape[0]):\n",
    "        user=gt_user[i]\n",
    "        if gt_item[i] in final_prediction[user]:\n",
    "            cnt+=1\n",
    "    \n",
    "    correct = cnt\n",
    "    gt = test.shape[0]\n",
    "    recall = correct/gt\n",
    "    \n",
    "    return recall, correct, gt\n",
    "\n",
    "def calculate_map (k, final_prediction, test):\n",
    "    n=test['user_id'].nunique()\n",
    "    ap_list=[]\n",
    "    gt = [(row.user_id, row.item_id) for row in test.itertuples(index=False)]\n",
    "    for user in final_prediction.keys():\n",
    "        cnt=0 #정답 세기\n",
    "        user_sum=0\n",
    "        for idx, item in enumerate(final_prediction[user]):\n",
    "            if (user, item) in gt:\n",
    "                cnt+=1\n",
    "            user_sum+=(cnt/(idx+1))\n",
    "        ap_list.append(user_sum/k)\n",
    "    \n",
    "    return sum(ap_list)/n"
   ]
  },
  {
   "cell_type": "code",
   "execution_count": 6,
   "id": "c50ade69",
   "metadata": {},
   "outputs": [],
   "source": [
    "with open('evaluation_result.txt', 'w') as file:\n",
    "    file.write(\"evaluation result\\n\\n\")"
   ]
  },
  {
   "cell_type": "code",
   "execution_count": 7,
   "id": "c0f1416e",
   "metadata": {},
   "outputs": [],
   "source": [
    "with open('evaluation_result.txt', 'a') as file:\n",
    "    file.write(\"Baseline:\\n\")"
   ]
  },
  {
   "cell_type": "code",
   "execution_count": 12,
   "id": "397367dd",
   "metadata": {},
   "outputs": [
    {
     "name": "stdout",
     "output_type": "stream",
     "text": [
      "100 50 1\n",
      "100 100 1\n",
      "100 50 1\n",
      "100 100 1\n",
      "100 50 1\n",
      "100 100 1\n"
     ]
    }
   ],
   "source": [
    "for ngcf, edge in edges:\n",
    "    for k in K:\n",
    "        beta=1\n",
    "        n=100\n",
    "        print(n, k, beta)\n",
    "        final_prediction=blending(n, k, beta, ngcf, {}) \n",
    "        recall, recall_correct, recall_gt = calculate_recall(final_prediction, test)\n",
    "        MAP = calculate_map(k, final_prediction, test)\n",
    "        with open('evaluation_result.txt', 'a') as file:\n",
    "            file.write(f\"edge: {edge}, k: {k}, -> recall: {recall}, map: {MAP}\\n\")"
   ]
  },
  {
   "cell_type": "code",
   "execution_count": 13,
   "id": "c222703d",
   "metadata": {},
   "outputs": [],
   "source": [
    "with open('evaluation_result.txt', 'a') as file:\n",
    "    file.write(\"\\nWith NLP:\\n\")"
   ]
  },
  {
   "cell_type": "code",
   "execution_count": 6,
   "id": "7085b574",
   "metadata": {},
   "outputs": [],
   "source": [
    "# setting parameters\n",
    "edges=[(ngcf_blend, 'blend')]\n",
    "N=[100, 500, 1000]\n",
    "K=[50, 100]\n",
    "Beta=[0.25, 0.5, 0.75] #beta=1 -> blend 없음\n",
    "modes=['review']"
   ]
  },
  {
   "cell_type": "code",
   "execution_count": 7,
   "id": "14d7aba3",
   "metadata": {
    "scrolled": false
   },
   "outputs": [
    {
     "name": "stdout",
     "output_type": "stream",
     "text": [
      "cosine sim is calculated\n",
      "blending is completed\n",
      "cosine sim is calculated\n",
      "blending is completed\n",
      "cosine sim is calculated\n",
      "blending is completed\n",
      "cosine sim is calculated\n",
      "blending is completed\n",
      "cosine sim is calculated\n",
      "blending is completed\n",
      "cosine sim is calculated\n",
      "blending is completed\n",
      "cosine sim is calculated\n",
      "blending is completed\n",
      "cosine sim is calculated\n",
      "blending is completed\n",
      "cosine sim is calculated\n",
      "blending is completed\n",
      "cosine sim is calculated\n",
      "blending is completed\n",
      "cosine sim is calculated\n",
      "blending is completed\n",
      "cosine sim is calculated\n",
      "blending is completed\n",
      "cosine sim is calculated\n",
      "blending is completed\n",
      "cosine sim is calculated\n",
      "blending is completed\n",
      "cosine sim is calculated\n",
      "blending is completed\n",
      "cosine sim is calculated\n",
      "blending is completed\n",
      "cosine sim is calculated\n",
      "blending is completed\n",
      "cosine sim is calculated\n",
      "blending is completed\n"
     ]
    }
   ],
   "source": [
    "from get_cosine_sim import calculate_cosine, blending\n",
    "\n",
    "for ngcf, edge in edges:\n",
    "    for n in N:\n",
    "        for k in K:\n",
    "            for beta in Beta:\n",
    "                for mode in modes:\n",
    "                    sim_cache=calculate_cosine(mode, n, ngcf, reviews, item)\n",
    "                    final_prediction=blending(n, k, beta, ngcf, sim_cache) \n",
    "                    \n",
    "                    recall, recall_correct, recall_gt = calculate_recall(final_prediction, test)\n",
    "                    MAP = calculate_map(k, final_prediction, test)\n",
    "                    \n",
    "                    with open('evaluation_result.txt', 'a') as file:\n",
    "                        file.write(f\"edge: {edge}, n: {n}, k: {k}, beta: {beta}, mode: review -> recall: {recall}, map: {MAP}\\n\")\n",
    "                        file.write(f\"edge: {edge}, n: {n}, k: {k}, beta: {beta}, mode: LLM -> recall: {recall}, map: {MAP}\\n\")"
   ]
  },
  {
   "cell_type": "code",
   "execution_count": null,
   "id": "a8067c61",
   "metadata": {},
   "outputs": [],
   "source": [
    "with open('evaluation_result.txt', 'r') as file:\n",
    "    content = file.read()\n",
    "    print(content)"
   ]
  },
  {
   "cell_type": "markdown",
   "id": "938dc8a2",
   "metadata": {},
   "source": [
    "# Check the final result"
   ]
  },
  {
   "cell_type": "code",
   "execution_count": 26,
   "id": "733175ad",
   "metadata": {},
   "outputs": [
    {
     "name": "stdout",
     "output_type": "stream",
     "text": [
      "edge: rating, k: 50, recall: 0.009921377761138151, map: 0.00034914901797021455\n",
      "edge: rating, k: 100, recall: 0.01497566454511419, map: 0.00031201081592421333\n",
      "edge: sent, k: 50, recall: 0.01067016098839386, map: 0.00040268042563045204\n",
      "edge: sent, k: 100, recall: 0.020217147135904157, map: 0.0003722130928257832\n",
      "edge: blend, k: 50, recall: 0.0041183077499064025, map: 0.00011583982604682916\n",
      "edge: blend, k: 100, recall: 0.01272931486334706, map: 0.00013808490723769837\n",
      "edge: rating, n: 100, k: 50, beta: 0.25, mode: review,recall: 0.011793335829277425, map: 0.0007548054013371154\n",
      "edge: rating, n: 100, k: 50, beta: 0.25, mode: LLM,recall: 0.011793335829277425, map: 0.0007548054013371154\n",
      "edge: rating, n: 100, k: 50, beta: 0.5, mode: review,recall: 0.011606140022463497, map: 0.0005894006318777449\n",
      "edge: rating, n: 100, k: 50, beta: 0.5, mode: LLM,recall: 0.011606140022463497, map: 0.0005894006318777449\n",
      "edge: rating, n: 100, k: 50, beta: 0.75, mode: review,recall: 0.011606140022463497, map: 0.0004975144724218217\n",
      "edge: rating, n: 100, k: 50, beta: 0.75, mode: LLM,recall: 0.011606140022463497, map: 0.0004975144724218217\n",
      "edge: rating, n: 100, k: 100, beta: 0.25, mode: review,recall: 0.01497566454511419, map: 0.0005299651840714436\n",
      "edge: rating, n: 100, k: 100, beta: 0.25, mode: LLM,recall: 0.01497566454511419, map: 0.0005299651840714436\n",
      "edge: rating, n: 100, k: 100, beta: 0.5, mode: review,recall: 0.01497566454511419, map: 0.0004466399392149315\n",
      "edge: rating, n: 100, k: 100, beta: 0.5, mode: LLM,recall: 0.01497566454511419, map: 0.0004466399392149315\n",
      "edge: rating, n: 100, k: 100, beta: 0.75, mode: review,recall: 0.01497566454511419, map: 0.0004006968594869699\n",
      "edge: rating, n: 100, k: 100, beta: 0.75, mode: LLM,recall: 0.01497566454511419, map: 0.0004006968594869699\n",
      "edge: rating, n: 500, k: 50, beta: 0.25, mode: review,recall: 0.03201048296518158, map: 0.0019492739167038917\n",
      "edge: rating, n: 500, k: 50, beta: 0.25, mode: LLM,recall: 0.03201048296518158, map: 0.0019492739167038917\n",
      "edge: rating, n: 500, k: 50, beta: 0.5, mode: review,recall: 0.03070011231748409, map: 0.0014573725020163837\n",
      "edge: rating, n: 500, k: 50, beta: 0.5, mode: LLM,recall: 0.03070011231748409, map: 0.0014573725020163837\n",
      "edge: rating, n: 500, k: 50, beta: 0.75, mode: review,recall: 0.030325720703856234, map: 0.0011535073690550632\n",
      "edge: rating, n: 500, k: 50, beta: 0.75, mode: LLM,recall: 0.030325720703856234, map: 0.0011535073690550632\n",
      "edge: rating, n: 500, k: 100, beta: 0.25, mode: review,recall: 0.041557469112691876, map: 0.0013929403866585414\n",
      "edge: rating, n: 500, k: 100, beta: 0.25, mode: LLM,recall: 0.041557469112691876, map: 0.0013929403866585414\n",
      "edge: rating, n: 500, k: 100, beta: 0.5, mode: review,recall: 0.040995881692250095, map: 0.0011398462503075062\n",
      "edge: rating, n: 500, k: 100, beta: 0.5, mode: LLM,recall: 0.040995881692250095, map: 0.0011398462503075062\n",
      "edge: rating, n: 500, k: 100, beta: 0.75, mode: review,recall: 0.040808685885436166, map: 0.0009839761866372214\n",
      "edge: rating, n: 500, k: 100, beta: 0.75, mode: LLM,recall: 0.040808685885436166, map: 0.0009839761866372214\n",
      "edge: rating, n: 1000, k: 50, beta: 0.25, mode: review,recall: 0.04567577686259828, map: 0.0027003411457478385\n",
      "edge: rating, n: 1000, k: 50, beta: 0.25, mode: LLM,recall: 0.04567577686259828, map: 0.0027003411457478385\n",
      "edge: rating, n: 1000, k: 50, beta: 0.5, mode: review,recall: 0.04380381879445901, map: 0.002033655543992203\n",
      "edge: rating, n: 1000, k: 50, beta: 0.5, mode: LLM,recall: 0.04380381879445901, map: 0.002033655543992203\n",
      "edge: rating, n: 1000, k: 50, beta: 0.75, mode: review,recall: 0.04193186072631973, map: 0.0015866124993588662\n",
      "edge: rating, n: 1000, k: 50, beta: 0.75, mode: LLM,recall: 0.04193186072631973, map: 0.0015866124993588662\n",
      "edge: rating, n: 1000, k: 100, beta: 0.25, mode: review,recall: 0.05971546237364283, map: 0.0019477011257731335\n",
      "edge: rating, n: 1000, k: 100, beta: 0.25, mode: LLM,recall: 0.05971546237364283, map: 0.0019477011257731335\n",
      "edge: rating, n: 1000, k: 100, beta: 0.5, mode: review,recall: 0.05896667914638712, map: 0.0016026426307314463\n",
      "edge: rating, n: 1000, k: 100, beta: 0.5, mode: LLM,recall: 0.05896667914638712, map: 0.0016026426307314463\n",
      "edge: rating, n: 1000, k: 100, beta: 0.75, mode: review,recall: 0.05840509172594534, map: 0.0013695263991211765\n",
      "edge: rating, n: 1000, k: 100, beta: 0.75, mode: LLM,recall: 0.05840509172594534, map: 0.0013695263991211765\n",
      "edge: sent, n: 100, k: 50, beta: 0.25, mode: review,recall: 0.017970797454137027, map: 0.001143643862915952\n",
      "edge: sent, n: 100, k: 50, beta: 0.25, mode: LLM,recall: 0.017970797454137027, map: 0.001143643862915952\n",
      "edge: sent, n: 100, k: 50, beta: 0.5, mode: review,recall: 0.0177836016473231, map: 0.000994204103867927\n",
      "edge: sent, n: 100, k: 50, beta: 0.5, mode: LLM,recall: 0.0177836016473231, map: 0.000994204103867927\n",
      "edge: sent, n: 100, k: 50, beta: 0.75, mode: review,recall: 0.01684762261325346, map: 0.0007243830020360475\n",
      "edge: sent, n: 100, k: 50, beta: 0.75, mode: LLM,recall: 0.01684762261325346, map: 0.0007243830020360475\n",
      "edge: sent, n: 100, k: 100, beta: 0.25, mode: review,recall: 0.020217147135904157, map: 0.0007875100410884805\n",
      "edge: sent, n: 100, k: 100, beta: 0.25, mode: LLM,recall: 0.020217147135904157, map: 0.0007875100410884805\n",
      "edge: sent, n: 100, k: 100, beta: 0.5, mode: review,recall: 0.020217147135904157, map: 0.0007133245308470382\n",
      "edge: sent, n: 100, k: 100, beta: 0.5, mode: LLM,recall: 0.020217147135904157, map: 0.0007133245308470382\n",
      "edge: sent, n: 100, k: 100, beta: 0.75, mode: review,recall: 0.020217147135904157, map: 0.0005751948369071137\n",
      "edge: sent, n: 100, k: 100, beta: 0.75, mode: LLM,recall: 0.020217147135904157, map: 0.0005751948369071137\n",
      "edge: sent, n: 500, k: 50, beta: 0.25, mode: review,recall: 0.03538000748783227, map: 0.0019028787256002006\n",
      "edge: sent, n: 500, k: 50, beta: 0.25, mode: LLM,recall: 0.03538000748783227, map: 0.0019028787256002006\n",
      "edge: sent, n: 500, k: 50, beta: 0.5, mode: review,recall: 0.03257207038562336, map: 0.001409094181742461\n",
      "edge: sent, n: 500, k: 50, beta: 0.5, mode: LLM,recall: 0.03257207038562336, map: 0.001409094181742461\n",
      "edge: sent, n: 500, k: 50, beta: 0.75, mode: review,recall: 0.019281168101834518, map: 0.0007768178990612296\n",
      "edge: sent, n: 500, k: 50, beta: 0.75, mode: LLM,recall: 0.019281168101834518, map: 0.0007768178990612296\n",
      "edge: sent, n: 500, k: 100, beta: 0.25, mode: review,recall: 0.04679895170348184, map: 0.0014183235077900992\n",
      "edge: sent, n: 500, k: 100, beta: 0.25, mode: LLM,recall: 0.04679895170348184, map: 0.0014183235077900992\n",
      "edge: sent, n: 500, k: 100, beta: 0.5, mode: review,recall: 0.04342942718083115, map: 0.0011286772976148078\n",
      "edge: sent, n: 500, k: 100, beta: 0.5, mode: LLM,recall: 0.04342942718083115, map: 0.0011286772976148078\n",
      "edge: sent, n: 500, k: 100, beta: 0.75, mode: review,recall: 0.03332085361287907, map: 0.0006823586130051232\n",
      "edge: sent, n: 500, k: 100, beta: 0.75, mode: LLM,recall: 0.03332085361287907, map: 0.0006823586130051232\n",
      "edge: sent, n: 1000, k: 50, beta: 0.25, mode: review,recall: 0.04286783976038937, map: 0.0023476193972672777\n",
      "edge: sent, n: 1000, k: 50, beta: 0.25, mode: LLM,recall: 0.04286783976038937, map: 0.0023476193972672777\n",
      "edge: sent, n: 1000, k: 50, beta: 0.5, mode: review,recall: 0.0376263571695994, map: 0.0015614768501559205\n",
      "edge: sent, n: 1000, k: 50, beta: 0.5, mode: LLM,recall: 0.0376263571695994, map: 0.0015614768501559205\n",
      "edge: sent, n: 1000, k: 50, beta: 0.75, mode: review,recall: 0.019468363908648447, map: 0.0007788299606759477\n",
      "edge: sent, n: 1000, k: 50, beta: 0.75, mode: LLM,recall: 0.019468363908648447, map: 0.0007788299606759477\n",
      "edge: sent, n: 1000, k: 100, beta: 0.25, mode: review,recall: 0.06008985398727069, map: 0.0017614085465278563\n",
      "edge: sent, n: 1000, k: 100, beta: 0.25, mode: LLM,recall: 0.06008985398727069, map: 0.0017614085465278563\n",
      "edge: sent, n: 1000, k: 100, beta: 0.5, mode: review,recall: 0.05241482590789966, map: 0.0012745820937585387\n",
      "edge: sent, n: 1000, k: 100, beta: 0.5, mode: LLM,recall: 0.05241482590789966, map: 0.0012745820937585387\n",
      "edge: sent, n: 1000, k: 100, beta: 0.75, mode: review,recall: 0.03425683264694871, map: 0.0006877343076191926\n",
      "edge: sent, n: 1000, k: 100, beta: 0.75, mode: LLM,recall: 0.03425683264694871, map: 0.0006877343076191926\n",
      "edge: blend, n: 100, k: 50, beta: 0.25, mode: review,recall: 0.010482965181579932, map: 0.0004985800889039752\n",
      "edge: blend, n: 100, k: 50, beta: 0.25, mode: LLM,recall: 0.010482965181579932, map: 0.0004985800889039752\n",
      "edge: blend, n: 100, k: 50, beta: 0.5, mode: review,recall: 0.008985398727068513, map: 0.00026493532146633673\n",
      "edge: blend, n: 100, k: 50, beta: 0.5, mode: LLM,recall: 0.008985398727068513, map: 0.00026493532146633673\n",
      "edge: blend, n: 100, k: 50, beta: 0.75, mode: review,recall: 0.005615874204417821, map: 0.0001486711443080035\n",
      "edge: blend, n: 100, k: 50, beta: 0.75, mode: LLM,recall: 0.005615874204417821, map: 0.0001486711443080035\n",
      "edge: blend, n: 100, k: 100, beta: 0.25, mode: review,recall: 0.01272931486334706, map: 0.0003830608265010541\n",
      "edge: blend, n: 100, k: 100, beta: 0.25, mode: LLM,recall: 0.01272931486334706, map: 0.0003830608265010541\n",
      "edge: blend, n: 100, k: 100, beta: 0.5, mode: review,recall: 0.01272931486334706, map: 0.0002600340008763387\n",
      "edge: blend, n: 100, k: 100, beta: 0.5, mode: LLM,recall: 0.01272931486334706, map: 0.0002600340008763387\n",
      "edge: blend, n: 100, k: 100, beta: 0.75, mode: review,recall: 0.01272931486334706, map: 0.0001850432423891216\n",
      "edge: blend, n: 100, k: 100, beta: 0.75, mode: LLM,recall: 0.01272931486334706, map: 0.0001850432423891216\n",
      "edge: blend, n: 500, k: 50, beta: 0.25, mode: review,recall: 0.026769000374391613, map: 0.0010384035858077738\n",
      "edge: blend, n: 500, k: 50, beta: 0.25, mode: LLM,recall: 0.026769000374391613, map: 0.0010384035858077738\n",
      "edge: blend, n: 500, k: 50, beta: 0.5, mode: review,recall: 0.013103706476974916, map: 0.00030157133515164704\n",
      "edge: blend, n: 500, k: 50, beta: 0.5, mode: LLM,recall: 0.013103706476974916, map: 0.00030157133515164704\n",
      "edge: blend, n: 500, k: 50, beta: 0.75, mode: review,recall: 0.005615874204417821, map: 0.0001486711443080035\n",
      "edge: blend, n: 500, k: 50, beta: 0.75, mode: LLM,recall: 0.005615874204417821, map: 0.0001486711443080035\n",
      "edge: blend, n: 500, k: 100, beta: 0.25, mode: review,recall: 0.04361662298764508, map: 0.0009270903753479594\n",
      "edge: blend, n: 500, k: 100, beta: 0.25, mode: LLM,recall: 0.04361662298764508, map: 0.0009270903753479594\n",
      "edge: blend, n: 500, k: 100, beta: 0.5, mode: review,recall: 0.029015350056158743, map: 0.0003933430149201048\n",
      "edge: blend, n: 500, k: 100, beta: 0.5, mode: LLM,recall: 0.029015350056158743, map: 0.0003933430149201048\n",
      "edge: blend, n: 500, k: 100, beta: 0.75, mode: review,recall: 0.01853238487457881, map: 0.00019954989078077218\n",
      "edge: blend, n: 500, k: 100, beta: 0.75, mode: LLM,recall: 0.01853238487457881, map: 0.00019954989078077218\n",
      "edge: blend, n: 1000, k: 50, beta: 0.25, mode: review,recall: 0.03182328715836765, map: 0.0011928421178710685\n",
      "edge: blend, n: 1000, k: 50, beta: 0.25, mode: LLM,recall: 0.03182328715836765, map: 0.0011928421178710685\n",
      "edge: blend, n: 1000, k: 50, beta: 0.5, mode: review,recall: 0.013103706476974916, map: 0.00030157133515164704\n",
      "edge: blend, n: 1000, k: 50, beta: 0.5, mode: LLM,recall: 0.013103706476974916, map: 0.00030157133515164704\n",
      "edge: blend, n: 1000, k: 50, beta: 0.75, mode: review,recall: 0.005615874204417821, map: 0.0001486711443080035\n",
      "edge: blend, n: 1000, k: 50, beta: 0.75, mode: LLM,recall: 0.005615874204417821, map: 0.0001486711443080035\n",
      "edge: blend, n: 1000, k: 100, beta: 0.25, mode: review,recall: 0.055409958816922504, map: 0.0010923307331465923\n",
      "edge: blend, n: 1000, k: 100, beta: 0.25, mode: LLM,recall: 0.055409958816922504, map: 0.0010923307331465923\n",
      "edge: blend, n: 1000, k: 100, beta: 0.5, mode: review,recall: 0.02995132909022838, map: 0.00039760264092775823\n",
      "edge: blend, n: 1000, k: 100, beta: 0.5, mode: LLM,recall: 0.02995132909022838, map: 0.00039760264092775823\n",
      "edge: blend, n: 1000, k: 100, beta: 0.75, mode: review,recall: 0.01853238487457881, map: 0.00019954989078077218\n",
      "edge: blend, n: 1000, k: 100, beta: 0.75, mode: LLM,recall: 0.01853238487457881, map: 0.00019954989078077218\n"
     ]
    }
   ],
   "source": [
    "baseline=[]\n",
    "ours=[]\n",
    "edge, rating, n, k, beta, mode, recall, MAP = [], [], [], [], [], [], [], []\n",
    "\n",
    "with open('evaluation_result.txt', 'r', encoding='utf-8') as file:\n",
    "    for line in file:\n",
    "        if ('edge' in line):\n",
    "            line=line.replace(\" -> \", \",\")\n",
    "            line=line.replace(\",,\", \", \")\n",
    "            pairs = line.split(\",\")\n",
    "            result_dict = {}\n",
    "\n",
    "            for pair in pairs:\n",
    "                key, value = pair.split(\":\")\n",
    "                result_dict[key.strip()] = value.strip() \n",
    "                \n",
    "            result_df = pd.DataFrame([result_dict])\n",
    "            df = pd.concat([df, result_df], ignore_index=True)\n",
    "                \n",
    "            print(line.strip())"
   ]
  },
  {
   "cell_type": "code",
   "execution_count": 43,
   "id": "6cd265ac",
   "metadata": {},
   "outputs": [],
   "source": [
    "for col in ['n', 'k', 'beta', 'recall', 'map']:\n",
    "    df[col] = pd.to_numeric(df[col], errors='coerce')"
   ]
  },
  {
   "cell_type": "code",
   "execution_count": 98,
   "id": "6afc3fc8",
   "metadata": {},
   "outputs": [],
   "source": [
    "baseline=df2[:6]"
   ]
  },
  {
   "cell_type": "code",
   "execution_count": 99,
   "id": "73eb057a",
   "metadata": {},
   "outputs": [
    {
     "data": {
      "text/html": [
       "<div>\n",
       "<style scoped>\n",
       "    .dataframe tbody tr th:only-of-type {\n",
       "        vertical-align: middle;\n",
       "    }\n",
       "\n",
       "    .dataframe tbody tr th {\n",
       "        vertical-align: top;\n",
       "    }\n",
       "\n",
       "    .dataframe thead th {\n",
       "        text-align: right;\n",
       "    }\n",
       "</style>\n",
       "<table border=\"1\" class=\"dataframe\">\n",
       "  <thead>\n",
       "    <tr style=\"text-align: right;\">\n",
       "      <th></th>\n",
       "      <th>recall</th>\n",
       "      <th>map</th>\n",
       "    </tr>\n",
       "    <tr>\n",
       "      <th>edge</th>\n",
       "      <th></th>\n",
       "      <th></th>\n",
       "    </tr>\n",
       "  </thead>\n",
       "  <tbody>\n",
       "    <tr>\n",
       "      <th>blend</th>\n",
       "      <td>0.842381</td>\n",
       "      <td>0.012696</td>\n",
       "    </tr>\n",
       "    <tr>\n",
       "      <th>rating</th>\n",
       "      <td>1.244852</td>\n",
       "      <td>0.033058</td>\n",
       "    </tr>\n",
       "    <tr>\n",
       "      <th>sent</th>\n",
       "      <td>1.544365</td>\n",
       "      <td>0.038745</td>\n",
       "    </tr>\n",
       "  </tbody>\n",
       "</table>\n",
       "</div>"
      ],
      "text/plain": [
       "          recall       map\n",
       "edge                      \n",
       "blend   0.842381  0.012696\n",
       "rating  1.244852  0.033058\n",
       "sent    1.544365  0.038745"
      ]
     },
     "execution_count": 99,
     "metadata": {},
     "output_type": "execute_result"
    }
   ],
   "source": [
    "pd.DataFrame({'recall': baseline.groupby('edge')['recall'].mean(), 'map': baseline.groupby('edge')['map'].mean()})"
   ]
  },
  {
   "cell_type": "code",
   "execution_count": 100,
   "id": "9c716140",
   "metadata": {},
   "outputs": [
    {
     "data": {
      "text/html": [
       "<div>\n",
       "<style scoped>\n",
       "    .dataframe tbody tr th:only-of-type {\n",
       "        vertical-align: middle;\n",
       "    }\n",
       "\n",
       "    .dataframe tbody tr th {\n",
       "        vertical-align: top;\n",
       "    }\n",
       "\n",
       "    .dataframe thead th {\n",
       "        text-align: right;\n",
       "    }\n",
       "</style>\n",
       "<table border=\"1\" class=\"dataframe\">\n",
       "  <thead>\n",
       "    <tr style=\"text-align: right;\">\n",
       "      <th></th>\n",
       "      <th>recall</th>\n",
       "      <th>map</th>\n",
       "    </tr>\n",
       "    <tr>\n",
       "      <th>edge</th>\n",
       "      <th></th>\n",
       "      <th></th>\n",
       "    </tr>\n",
       "  </thead>\n",
       "  <tbody>\n",
       "    <tr>\n",
       "      <th>blend</th>\n",
       "      <td>1.909397</td>\n",
       "      <td>0.043203</td>\n",
       "    </tr>\n",
       "    <tr>\n",
       "      <th>rating</th>\n",
       "      <td>3.248832</td>\n",
       "      <td>0.120353</td>\n",
       "    </tr>\n",
       "    <tr>\n",
       "      <th>sent</th>\n",
       "      <td>3.085282</td>\n",
       "      <td>0.110818</td>\n",
       "    </tr>\n",
       "  </tbody>\n",
       "</table>\n",
       "</div>"
      ],
      "text/plain": [
       "          recall       map\n",
       "edge                      \n",
       "blend   1.909397  0.043203\n",
       "rating  3.248832  0.120353\n",
       "sent    3.085282  0.110818"
      ]
     },
     "execution_count": 100,
     "metadata": {},
     "output_type": "execute_result"
    }
   ],
   "source": [
    "pd.DataFrame({'recall': df2.groupby('edge')['recall'].mean(), 'map': df2.groupby('edge')['map'].mean()})"
   ]
  },
  {
   "cell_type": "code",
   "execution_count": 101,
   "id": "e5c5ef39",
   "metadata": {},
   "outputs": [
    {
     "data": {
      "text/html": [
       "<div>\n",
       "<style scoped>\n",
       "    .dataframe tbody tr th:only-of-type {\n",
       "        vertical-align: middle;\n",
       "    }\n",
       "\n",
       "    .dataframe tbody tr th {\n",
       "        vertical-align: top;\n",
       "    }\n",
       "\n",
       "    .dataframe thead th {\n",
       "        text-align: right;\n",
       "    }\n",
       "</style>\n",
       "<table border=\"1\" class=\"dataframe\">\n",
       "  <thead>\n",
       "    <tr style=\"text-align: right;\">\n",
       "      <th></th>\n",
       "      <th>recall</th>\n",
       "      <th>map</th>\n",
       "    </tr>\n",
       "    <tr>\n",
       "      <th>n</th>\n",
       "      <th></th>\n",
       "      <th></th>\n",
       "    </tr>\n",
       "  </thead>\n",
       "  <tbody>\n",
       "    <tr>\n",
       "      <th>100.0</th>\n",
       "      <td>1.424768</td>\n",
       "      <td>0.054987</td>\n",
       "    </tr>\n",
       "    <tr>\n",
       "      <th>500.0</th>\n",
       "      <td>3.132410</td>\n",
       "      <td>0.102243</td>\n",
       "    </tr>\n",
       "    <tr>\n",
       "      <th>1000.0</th>\n",
       "      <td>3.942552</td>\n",
       "      <td>0.127693</td>\n",
       "    </tr>\n",
       "  </tbody>\n",
       "</table>\n",
       "</div>"
      ],
      "text/plain": [
       "          recall       map\n",
       "n                         \n",
       "100.0   1.424768  0.054987\n",
       "500.0   3.132410  0.102243\n",
       "1000.0  3.942552  0.127693"
      ]
     },
     "execution_count": 101,
     "metadata": {},
     "output_type": "execute_result"
    }
   ],
   "source": [
    "pd.DataFrame({'recall': df2.groupby('n')['recall'].mean(), 'map': df2.groupby('n')['map'].mean()})"
   ]
  },
  {
   "cell_type": "code",
   "execution_count": 102,
   "id": "cc2601af",
   "metadata": {},
   "outputs": [
    {
     "data": {
      "text/html": [
       "<div>\n",
       "<style scoped>\n",
       "    .dataframe tbody tr th:only-of-type {\n",
       "        vertical-align: middle;\n",
       "    }\n",
       "\n",
       "    .dataframe tbody tr th {\n",
       "        vertical-align: top;\n",
       "    }\n",
       "\n",
       "    .dataframe thead th {\n",
       "        text-align: right;\n",
       "    }\n",
       "</style>\n",
       "<table border=\"1\" class=\"dataframe\">\n",
       "  <thead>\n",
       "    <tr style=\"text-align: right;\">\n",
       "      <th></th>\n",
       "      <th>recall</th>\n",
       "      <th>map</th>\n",
       "    </tr>\n",
       "    <tr>\n",
       "      <th>beta</th>\n",
       "      <th></th>\n",
       "      <th></th>\n",
       "    </tr>\n",
       "  </thead>\n",
       "  <tbody>\n",
       "    <tr>\n",
       "      <th>0.25</th>\n",
       "      <td>3.388244</td>\n",
       "      <td>0.132048</td>\n",
       "    </tr>\n",
       "    <tr>\n",
       "      <th>0.50</th>\n",
       "      <td>2.844336</td>\n",
       "      <td>0.090389</td>\n",
       "    </tr>\n",
       "    <tr>\n",
       "      <th>0.75</th>\n",
       "      <td>2.267149</td>\n",
       "      <td>0.062485</td>\n",
       "    </tr>\n",
       "  </tbody>\n",
       "</table>\n",
       "</div>"
      ],
      "text/plain": [
       "        recall       map\n",
       "beta                    \n",
       "0.25  3.388244  0.132048\n",
       "0.50  2.844336  0.090389\n",
       "0.75  2.267149  0.062485"
      ]
     },
     "execution_count": 102,
     "metadata": {},
     "output_type": "execute_result"
    }
   ],
   "source": [
    "pd.DataFrame({'recall': df2.groupby('beta')['recall'].mean(), 'map': df2.groupby('beta')['map'].mean()})"
   ]
  },
  {
   "cell_type": "code",
   "execution_count": 53,
   "id": "60aaca7d",
   "metadata": {},
   "outputs": [
    {
     "data": {
      "text/plain": [
       "(mode\n",
       " LLM       0.028332\n",
       " review    0.028332\n",
       " Name: recall, dtype: float64,\n",
       " mode\n",
       " LLM       0.00095\n",
       " review    0.00095\n",
       " Name: map, dtype: float64)"
      ]
     },
     "execution_count": 53,
     "metadata": {},
     "output_type": "execute_result"
    }
   ],
   "source": [
    "df.groupby('mode')['recall'].mean(), df.groupby('mode')['map'].mean()"
   ]
  },
  {
   "cell_type": "code",
   "execution_count": 57,
   "id": "5713f536",
   "metadata": {},
   "outputs": [],
   "source": [
    "df2=df.copy()\n",
    "df2['recall']=df2['recall']*100\n",
    "# df2=df2['recall']*100\n",
    "df2['map']=df2['map']*100"
   ]
  },
  {
   "cell_type": "code",
   "execution_count": 93,
   "id": "ac226c12",
   "metadata": {},
   "outputs": [
    {
     "data": {
      "text/html": [
       "<div>\n",
       "<style scoped>\n",
       "    .dataframe tbody tr th:only-of-type {\n",
       "        vertical-align: middle;\n",
       "    }\n",
       "\n",
       "    .dataframe tbody tr th {\n",
       "        vertical-align: top;\n",
       "    }\n",
       "\n",
       "    .dataframe thead th {\n",
       "        text-align: right;\n",
       "    }\n",
       "</style>\n",
       "<table border=\"1\" class=\"dataframe\">\n",
       "  <thead>\n",
       "    <tr style=\"text-align: right;\">\n",
       "      <th></th>\n",
       "      <th>recall</th>\n",
       "      <th>map</th>\n",
       "    </tr>\n",
       "    <tr>\n",
       "      <th>edge</th>\n",
       "      <th></th>\n",
       "      <th></th>\n",
       "    </tr>\n",
       "  </thead>\n",
       "  <tbody>\n",
       "    <tr>\n",
       "      <th>blend</th>\n",
       "      <td>1.909397</td>\n",
       "      <td>0.043203</td>\n",
       "    </tr>\n",
       "    <tr>\n",
       "      <th>rating</th>\n",
       "      <td>3.248832</td>\n",
       "      <td>0.120353</td>\n",
       "    </tr>\n",
       "    <tr>\n",
       "      <th>sent</th>\n",
       "      <td>3.085282</td>\n",
       "      <td>0.110818</td>\n",
       "    </tr>\n",
       "  </tbody>\n",
       "</table>\n",
       "</div>"
      ],
      "text/plain": [
       "          recall       map\n",
       "edge                      \n",
       "blend   1.909397  0.043203\n",
       "rating  3.248832  0.120353\n",
       "sent    3.085282  0.110818"
      ]
     },
     "execution_count": 93,
     "metadata": {},
     "output_type": "execute_result"
    }
   ],
   "source": [
    "# df2_edge=df2.groupby('edge')['recall'].mean()\n",
    "pd.DataFrame({'recall': df2.groupby('edge')['recall'].mean(), 'map': df2.groupby('edge')['map'].mean()})"
   ]
  },
  {
   "cell_type": "code",
   "execution_count": 89,
   "id": "14fd5b01",
   "metadata": {},
   "outputs": [
    {
     "data": {
      "text/plain": [
       "edge\n",
       "blend     1.909397\n",
       "rating    3.248832\n",
       "sent      3.085282\n",
       "Name: recall, dtype: float64"
      ]
     },
     "execution_count": 89,
     "metadata": {},
     "output_type": "execute_result"
    }
   ],
   "source": [
    "df2.groupby('edge')['recall'].mean(), df2.groupby('edge')['map'].mean()"
   ]
  },
  {
   "cell_type": "code",
   "execution_count": 60,
   "id": "76883e10",
   "metadata": {},
   "outputs": [
    {
     "data": {
      "text/plain": [
       "(n\n",
       " 100.0     1.424768\n",
       " 500.0     3.132410\n",
       " 1000.0    3.942552\n",
       " Name: recall, dtype: float64,\n",
       " n\n",
       " 100.0     0.054987\n",
       " 500.0     0.102243\n",
       " 1000.0    0.127693\n",
       " Name: map, dtype: float64)"
      ]
     },
     "execution_count": 60,
     "metadata": {},
     "output_type": "execute_result"
    }
   ],
   "source": [
    "df2.groupby('n')['recall'].mean(), df2.groupby('n')['map'].mean()"
   ]
  },
  {
   "cell_type": "code",
   "execution_count": 61,
   "id": "a0c84f55",
   "metadata": {},
   "outputs": [
    {
     "data": {
      "text/plain": [
       "(beta\n",
       " 0.25    3.388244\n",
       " 0.50    2.844336\n",
       " 0.75    2.267149\n",
       " Name: recall, dtype: float64,\n",
       " beta\n",
       " 0.25    0.132048\n",
       " 0.50    0.090389\n",
       " 0.75    0.062485\n",
       " Name: map, dtype: float64)"
      ]
     },
     "execution_count": 61,
     "metadata": {},
     "output_type": "execute_result"
    }
   ],
   "source": [
    "df2.groupby('beta')['recall'].mean(), df2.groupby('beta')['map'].mean()"
   ]
  },
  {
   "cell_type": "code",
   "execution_count": 62,
   "id": "722935ab",
   "metadata": {},
   "outputs": [
    {
     "data": {
      "text/plain": [
       "(mode\n",
       " LLM       2.833243\n",
       " review    2.833243\n",
       " Name: recall, dtype: float64,\n",
       " mode\n",
       " LLM       0.094974\n",
       " review    0.094974\n",
       " Name: map, dtype: float64)"
      ]
     },
     "execution_count": 62,
     "metadata": {},
     "output_type": "execute_result"
    }
   ],
   "source": [
    "df2.groupby('mode')['recall'].mean(), df2.groupby('mode')['map'].mean()"
   ]
  },
  {
   "cell_type": "code",
   "execution_count": 64,
   "id": "c5300ed4",
   "metadata": {},
   "outputs": [],
   "source": [
    "df.to_csv('evaluation_result.csv', index=False)\n",
    "df2.to_csv('evaluation_result_percent.csv', index=False)"
   ]
  },
  {
   "cell_type": "markdown",
   "id": "4f30de36",
   "metadata": {},
   "source": [
    "# random evaluation"
   ]
  },
  {
   "cell_type": "code",
   "execution_count": 65,
   "id": "5d3ea578",
   "metadata": {},
   "outputs": [],
   "source": [
    "from get_cosine_sim import calculate_cosine, blending\n",
    "import pandas as pd\n",
    "import json"
   ]
  },
  {
   "cell_type": "code",
   "execution_count": 66,
   "id": "66b72a72",
   "metadata": {},
   "outputs": [],
   "source": [
    "with open('ngcf_random.json', 'r') as json_file:\n",
    "    ngcf_random = json.load(json_file)"
   ]
  },
  {
   "cell_type": "code",
   "execution_count": 73,
   "id": "7f410f7c",
   "metadata": {},
   "outputs": [],
   "source": [
    "rand=[(ngcf_random, 'random')]"
   ]
  },
  {
   "cell_type": "code",
   "execution_count": 69,
   "id": "baedf781",
   "metadata": {},
   "outputs": [],
   "source": [
    "with open('evaluation_result_random.txt', 'w') as file:\n",
    "    file.write(\"random: result\\n\")"
   ]
  },
  {
   "cell_type": "code",
   "execution_count": 74,
   "id": "2222a86e",
   "metadata": {},
   "outputs": [],
   "source": [
    "for ngcf, edge in rand:\n",
    "    for k in K:\n",
    "        beta=1\n",
    "        n=100\n",
    "        final_prediction=blending(n, k, beta, ngcf, {}) \n",
    "        recall, recall_correct, recall_gt = calculate_recall(final_prediction, test)\n",
    "        MAP = calculate_map(k, final_prediction, test)\n",
    "        with open('evaluation_result_random.txt', 'a') as file:\n",
    "            file.write(f\"edge: {edge}, k: {k}, -> recall: {recall}, map: {MAP}\\n\")"
   ]
  },
  {
   "cell_type": "code",
   "execution_count": 76,
   "id": "74f46d5e",
   "metadata": {},
   "outputs": [
    {
     "data": {
      "text/plain": [
       "(0.037439161362785474, 0.0006638083704802074)"
      ]
     },
     "execution_count": 76,
     "metadata": {},
     "output_type": "execute_result"
    }
   ],
   "source": [
    "recall*100, MAP*100"
   ]
  }
 ],
 "metadata": {
  "kernelspec": {
   "display_name": "PyTorch 2.2 (NGC 23.11/Python 3.10) on Backend.AI",
   "language": "python",
   "name": "python3"
  },
  "language_info": {
   "codemirror_mode": {
    "name": "ipython",
    "version": 3
   },
   "file_extension": ".py",
   "mimetype": "text/x-python",
   "name": "python",
   "nbconvert_exporter": "python",
   "pygments_lexer": "ipython3",
   "version": "3.10.12"
  }
 },
 "nbformat": 4,
 "nbformat_minor": 5
}
