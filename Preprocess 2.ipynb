{
 "cells": [
  {
   "cell_type": "code",
   "execution_count": 36,
   "id": "d2ceb387",
   "metadata": {},
   "outputs": [],
   "source": [
    "rating=graph.copy()"
   ]
  },
  {
   "cell_type": "code",
   "execution_count": 21,
   "id": "287d6053",
   "metadata": {},
   "outputs": [],
   "source": [
    "import pandas as pd\n",
    "import numpy as np"
   ]
  },
  {
   "cell_type": "code",
   "execution_count": 22,
   "id": "4a6635b6",
   "metadata": {},
   "outputs": [],
   "source": [
    "rating=pd.read_csv('rating.csv')\n",
    "item=pd.read_csv('item.csv')"
   ]
  },
  {
   "cell_type": "markdown",
   "id": "6a3b7099",
   "metadata": {},
   "source": [
    "# item purchase limitation\n",
    "- purchase >=10 -> 30596\n",
    "- purchase >=9 -\n",
    "- purchase >=8\n",
    "- purchase >=7\n",
    "- purchase >=6\n",
    "- purchase >=5"
   ]
  },
  {
   "cell_type": "code",
   "execution_count": 29,
   "id": "75859e3e",
   "metadata": {},
   "outputs": [],
   "source": [
    "# item purchase >=6 \n",
    "user_counts = rating.groupby('user_id').size()\n",
    "\n",
    "sparse_users = user_counts[user_counts < 6].index  \n",
    "# twice_users = user_counts[user_counts == 2].index\n",
    "\n",
    "# rating = rating[~rating['user_id'].isin(once_users)]\n",
    "# rating = rating[~rating['user_id'].isin(twice_users)] #row: 268,985"
   ]
  },
  {
   "cell_type": "code",
   "execution_count": 37,
   "id": "3fca7668",
   "metadata": {
    "scrolled": true
   },
   "outputs": [
    {
     "name": "stdout",
     "output_type": "stream",
     "text": [
      "3 268965\n",
      "4 148470\n",
      "5 95954\n",
      "6 68684\n",
      "7 52844\n",
      "8 42799\n",
      "9 35735\n",
      "10 30596\n"
     ]
    }
   ],
   "source": [
    "for i in range(3, 11):\n",
    "    sparse_users = user_counts[user_counts < i].index  \n",
    "    print(i, rating[~rating['user_id'].isin(sparse_users)].shape[0])"
   ]
  },
  {
   "cell_type": "code",
   "execution_count": 38,
   "id": "45a3c8fb",
   "metadata": {},
   "outputs": [],
   "source": [
    "user_counts = rating.groupby('user_id').size()\n",
    "\n",
    "sparse_users = user_counts[user_counts < 5].index  \n",
    "\n",
    "rating_new = rating[~rating['user_id'].isin(sparse_users)]"
   ]
  },
  {
   "cell_type": "markdown",
   "id": "3bc33c74",
   "metadata": {},
   "source": [
    "# item new"
   ]
  },
  {
   "cell_type": "code",
   "execution_count": 39,
   "id": "6be27b79",
   "metadata": {},
   "outputs": [],
   "source": [
    "# filtering items that are NOT included in rating table\n",
    "items_in_rating = rating_new['item_id'].unique()\n",
    "item_new = item[item['item_id'].isin(items_in_rating)]"
   ]
  },
  {
   "cell_type": "markdown",
   "id": "b95b9529",
   "metadata": {},
   "source": [
    "# update tables"
   ]
  },
  {
   "cell_type": "code",
   "execution_count": 40,
   "id": "c3936430",
   "metadata": {},
   "outputs": [],
   "source": [
    "graph=pd.read_csv('./감성분석/graph.csv')\n",
    "graph_new=graph[graph['user_id'].isin(rating_new['user_id'].unique())]"
   ]
  },
  {
   "cell_type": "code",
   "execution_count": 41,
   "id": "dfff9d8c",
   "metadata": {},
   "outputs": [
    {
     "data": {
      "text/plain": [
       "(12781, 74974)"
      ]
     },
     "execution_count": 41,
     "metadata": {},
     "output_type": "execute_result"
    }
   ],
   "source": [
    "rating_new['user_id'].nunique(), rating_new['item_id'].nunique()"
   ]
  },
  {
   "cell_type": "code",
   "execution_count": 42,
   "id": "b0fbefb7",
   "metadata": {},
   "outputs": [],
   "source": [
    "rating_new.to_csv('rating4.csv', index=False)\n",
    "item_new.to_csv('item4.csv', index=False)\n",
    "graph_new.to_csv('graph4.csv', index=False)"
   ]
  },
  {
   "cell_type": "markdown",
   "id": "2e909928",
   "metadata": {},
   "source": [
    "# train, test split"
   ]
  },
  {
   "cell_type": "code",
   "execution_count": 18,
   "id": "c482078f",
   "metadata": {},
   "outputs": [
    {
     "data": {
      "text/plain": [
       "(54947, 13737)"
      ]
     },
     "execution_count": 18,
     "metadata": {},
     "output_type": "execute_result"
    }
   ],
   "source": [
    "from sklearn.model_selection import train_test_split\n",
    "import pandas as pd\n",
    "\n",
    "df=graph_new.copy()\n",
    "\n",
    "train, test = train_test_split(df, test_size=0.2, random_state=42)\n",
    "\n",
    "len(train), len(test)"
   ]
  },
  {
   "cell_type": "code",
   "execution_count": 19,
   "id": "97268943",
   "metadata": {},
   "outputs": [
    {
     "data": {
      "text/plain": [
       "1     2365\n",
       "2     1906\n",
       "3      942\n",
       "4      410\n",
       "5      161\n",
       "6       81\n",
       "7       49\n",
       "8       33\n",
       "9       27\n",
       "10      19\n",
       "11      11\n",
       "12      11\n",
       "14       7\n",
       "18       2\n",
       "16       2\n",
       "26       2\n",
       "34       1\n",
       "17       1\n",
       "31       1\n",
       "35       1\n",
       "23       1\n",
       "15       1\n",
       "67       1\n",
       "22       1\n",
       "27       1\n",
       "21       1\n",
       "dtype: int64"
      ]
     },
     "execution_count": 19,
     "metadata": {},
     "output_type": "execute_result"
    }
   ],
   "source": [
    "user_counts = test.groupby('user_id').size()\n",
    "user_counts.value_counts()"
   ]
  },
  {
   "cell_type": "code",
   "execution_count": 20,
   "id": "b5cc5f96",
   "metadata": {},
   "outputs": [],
   "source": [
    "train.to_csv('graph6_train.csv', index=False)\n",
    "test.to_csv('graph6_test.csv', index=False)"
   ]
  }
 ],
 "metadata": {
  "kernelspec": {
   "display_name": "PyTorch 2.2 (NGC 23.11/Python 3.10) on Backend.AI",
   "language": "python",
   "name": "python3"
  },
  "language_info": {
   "codemirror_mode": {
    "name": "ipython",
    "version": 3
   },
   "file_extension": ".py",
   "mimetype": "text/x-python",
   "name": "python",
   "nbconvert_exporter": "python",
   "pygments_lexer": "ipython3",
   "version": "3.10.12"
  }
 },
 "nbformat": 4,
 "nbformat_minor": 5
}
