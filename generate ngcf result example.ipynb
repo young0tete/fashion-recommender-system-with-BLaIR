{
 "cells": [
  {
   "cell_type": "code",
   "execution_count": 1,
   "id": "71bcb74c",
   "metadata": {},
   "outputs": [],
   "source": [
    "import pandas as pd\n",
    "import json"
   ]
  },
  {
   "cell_type": "code",
   "execution_count": 2,
   "id": "c38509ae",
   "metadata": {},
   "outputs": [
    {
     "data": {
      "text/plain": [
       "17465"
      ]
     },
     "execution_count": 2,
     "metadata": {},
     "output_type": "execute_result"
    }
   ],
   "source": [
    "test=pd.read_csv('graph_test.csv')\n",
    "item=pd.read_csv('item.csv')\n",
    "\n",
    "\n",
    "users=list(test['user_id'].unique())\n",
    "items=list(item['item_id'].unique())"
   ]
  },
  {
   "cell_type": "code",
   "execution_count": 3,
   "id": "ba68efc4",
   "metadata": {},
   "outputs": [
    {
     "data": {
      "text/plain": [
       "111204"
      ]
     },
     "execution_count": 3,
     "metadata": {},
     "output_type": "execute_result"
    }
   ],
   "source": [
    "import random\n",
    "\n",
    "ngcf={}\n",
    "for user in users:\n",
    "    key=user\n",
    "    value={}\n",
    "    for j in range(100):\n",
    "        value[j]=(items[random.randint(0, len(items)-1)], random.random())\n",
    "    ngcf[key]=value"
   ]
  },
  {
   "cell_type": "code",
   "execution_count": 5,
   "id": "22e5670f",
   "metadata": {},
   "outputs": [],
   "source": [
    "with open('ngcf.json', 'w') as json_file:\n",
    "    json.dump(ngcf, json_file)"
   ]
  }
 ],
 "metadata": {
  "kernelspec": {
   "display_name": "PyTorch 2.2 (NGC 23.11/Python 3.10) on Backend.AI",
   "language": "python",
   "name": "python3"
  },
  "language_info": {
   "codemirror_mode": {
    "name": "ipython",
    "version": 3
   },
   "file_extension": ".py",
   "mimetype": "text/x-python",
   "name": "python",
   "nbconvert_exporter": "python",
   "pygments_lexer": "ipython3",
   "version": "3.10.12"
  }
 },
 "nbformat": 4,
 "nbformat_minor": 5
}
