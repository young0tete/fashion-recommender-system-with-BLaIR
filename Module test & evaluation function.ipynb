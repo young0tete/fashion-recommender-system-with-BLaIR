{
 "cells": [
  {
   "cell_type": "code",
   "execution_count": 1,
   "id": "1826b797",
   "metadata": {},
   "outputs": [],
   "source": [
    "from get_cosine_sim import calculate_cosine, blending\n",
    "import pandas as pd\n",
    "import json"
   ]
  },
  {
   "cell_type": "code",
   "execution_count": 2,
   "id": "6835e504",
   "metadata": {},
   "outputs": [],
   "source": [
    "reviews=pd.read_csv('user_review_with_LLM.csv')\n",
    "item=pd.read_csv('item_new.csv')\n",
    "with open('ngcf.json', 'r') as json_file:\n",
    "    ngcf = json.load(json_file)"
   ]
  },
  {
   "cell_type": "code",
   "execution_count": 3,
   "id": "b514a80c",
   "metadata": {},
   "outputs": [
    {
     "name": "stdout",
     "output_type": "stream",
     "text": [
      "Progress: 17465/17465\n"
     ]
    }
   ],
   "source": [
    "sim_cache=calculate_cosine(\"review\", 100, ngcf, reviews, item) #mode='review', 'LLM' #n: gcf로 추출하는 item 개수"
   ]
  },
  {
   "cell_type": "code",
   "execution_count": 4,
   "id": "c9a32742",
   "metadata": {
    "scrolled": true
   },
   "outputs": [],
   "source": [
    "final_prediction=blending(100, 50, 0.5, ngcf, sim_cache) "
   ]
  },
  {
   "cell_type": "markdown",
   "id": "c4a7a12f",
   "metadata": {},
   "source": [
    "# 평가함수"
   ]
  },
  {
   "cell_type": "markdown",
   "id": "1e2b75d4",
   "metadata": {},
   "source": [
    "### Recall"
   ]
  },
  {
   "cell_type": "code",
   "execution_count": 5,
   "id": "7002b466",
   "metadata": {},
   "outputs": [],
   "source": [
    "def calculate_recall (final_prediction, test):\n",
    "    gt_user, gt_item = list(test['user_id']), list(test['item_id'])\n",
    "    \n",
    "    cnt=0\n",
    "\n",
    "    for i in range(test.shape[0]):\n",
    "        user=gt_user[i]\n",
    "        if gt_item[i] in final_prediction[user]:\n",
    "            cnt+=1\n",
    "    \n",
    "    correct = cnt\n",
    "    gt = test.shape[0]\n",
    "    recall = correct/gt\n",
    "    \n",
    "    return recall, correct, gt"
   ]
  },
  {
   "cell_type": "code",
   "execution_count": 6,
   "id": "cc4f8ed9",
   "metadata": {},
   "outputs": [],
   "source": [
    "test=pd.read_csv('graph_test.csv')\n",
    "recall, recall_correct, recall_gt = calculate_recall(final_prediction, test)"
   ]
  },
  {
   "cell_type": "markdown",
   "id": "53a6d0c0",
   "metadata": {},
   "source": [
    "### MAP"
   ]
  },
  {
   "cell_type": "code",
   "execution_count": 7,
   "id": "08255441",
   "metadata": {},
   "outputs": [],
   "source": [
    "def calculate_map (k, final_prediction, test):\n",
    "    n=test['user_id'].nunique()\n",
    "    ap_list=[]\n",
    "    gt = [(row.user_id, row.item_id) for row in test.itertuples(index=False)]\n",
    "    for user in final_prediction.keys():\n",
    "        cnt=0 #정답 세기\n",
    "        user_sum=0\n",
    "        for idx, item in enumerate(final_prediction[user]):\n",
    "            if (user, item) in gt:\n",
    "                cnt+=1\n",
    "            user_sum+=(cnt/(idx+1))\n",
    "        ap_list.append(user_sum/k)\n",
    "    \n",
    "    return sum(ap_list)/n"
   ]
  },
  {
   "cell_type": "code",
   "execution_count": 8,
   "id": "4942a1a2",
   "metadata": {},
   "outputs": [
    {
     "data": {
      "text/plain": [
       "2.2342839877725747e-05"
      ]
     },
     "execution_count": 8,
     "metadata": {},
     "output_type": "execute_result"
    }
   ],
   "source": [
    "calculate_map(50, final_prediction, test)"
   ]
  },
  {
   "cell_type": "code",
   "execution_count": 11,
   "id": "ed571b54",
   "metadata": {},
   "outputs": [
    {
     "data": {
      "text/plain": [
       "0.0007072135785007072"
      ]
     },
     "execution_count": 11,
     "metadata": {},
     "output_type": "execute_result"
    }
   ],
   "source": [
    "recall_correct/recall_gt"
   ]
  }
 ],
 "metadata": {
  "kernelspec": {
   "display_name": "PyTorch 2.2 (NGC 23.11/Python 3.10) on Backend.AI",
   "language": "python",
   "name": "python3"
  },
  "language_info": {
   "codemirror_mode": {
    "name": "ipython",
    "version": 3
   },
   "file_extension": ".py",
   "mimetype": "text/x-python",
   "name": "python",
   "nbconvert_exporter": "python",
   "pygments_lexer": "ipython3",
   "version": "3.10.12"
  }
 },
 "nbformat": 4,
 "nbformat_minor": 5
}
