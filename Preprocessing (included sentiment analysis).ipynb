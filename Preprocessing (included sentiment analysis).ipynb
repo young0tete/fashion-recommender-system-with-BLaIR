{
 "cells": [
  {
   "cell_type": "code",
   "execution_count": 1,
   "id": "b9d6382b",
   "metadata": {},
   "outputs": [],
   "source": [
    "import pandas as pd\n",
    "import numpy as np"
   ]
  },
  {
   "cell_type": "code",
   "execution_count": 2,
   "id": "82c6f22b",
   "metadata": {},
   "outputs": [],
   "source": [
    "original_rating = pd.read_json(\"Amazon_Fashion.jsonl\", lines=True)\n",
    "original_item = pd.read_json(\"meta_Amazon_Fashion.jsonl\", lines=True)"
   ]
  },
  {
   "cell_type": "code",
   "execution_count": 3,
   "id": "58dc1fe8",
   "metadata": {},
   "outputs": [],
   "source": [
    "rating = original_rating.copy()\n",
    "item = original_item.copy()"
   ]
  },
  {
   "cell_type": "code",
   "execution_count": 4,
   "id": "455797a6",
   "metadata": {},
   "outputs": [],
   "source": [
    "rating = rating.rename(columns={'parent_asin': 'item_id'})\n",
    "item = item.rename(columns={'parent_asin': 'item_id'})"
   ]
  },
  {
   "cell_type": "markdown",
   "id": "c666579b",
   "metadata": {},
   "source": [
    "# Item 1차"
   ]
  },
  {
   "cell_type": "code",
   "execution_count": 5,
   "id": "4034ba46",
   "metadata": {},
   "outputs": [],
   "source": [
    "item = item.drop(columns=['main_category', 'price', 'images', 'videos', 'store', 'categories', 'details', 'bought_together'])"
   ]
  },
  {
   "cell_type": "code",
   "execution_count": 6,
   "id": "551e7645",
   "metadata": {},
   "outputs": [],
   "source": [
    "item[item.select_dtypes(include=['object']).columns] = item.select_dtypes(include=['object']).astype(str)\n",
    "item = item.applymap(lambda x: x.replace('[', '').replace(']', '') if isinstance(x, str) else x)\n",
    "item = item.fillna('')"
   ]
  },
  {
   "cell_type": "code",
   "execution_count": 7,
   "id": "d9a2cd4a",
   "metadata": {},
   "outputs": [],
   "source": [
    "item['item_text']=item['title']+item['features']+item['description']"
   ]
  },
  {
   "cell_type": "code",
   "execution_count": 8,
   "id": "86d80458",
   "metadata": {},
   "outputs": [],
   "source": [
    "item = item.drop(columns=['title', 'average_rating', 'rating_number', 'features', 'description'])"
   ]
  },
  {
   "cell_type": "code",
   "execution_count": 9,
   "id": "46ba9659",
   "metadata": {},
   "outputs": [],
   "source": [
    "item = item[item['item_text'] != '']"
   ]
  },
  {
   "cell_type": "markdown",
   "id": "5efa32d3",
   "metadata": {},
   "source": [
    "# Rating 1차"
   ]
  },
  {
   "cell_type": "code",
   "execution_count": 10,
   "id": "5ebb93cf",
   "metadata": {},
   "outputs": [],
   "source": [
    "rating = rating.drop(columns=['images', 'verified_purchase', 'helpful_vote', 'timestamp'])"
   ]
  },
  {
   "cell_type": "code",
   "execution_count": 11,
   "id": "322968e7",
   "metadata": {},
   "outputs": [],
   "source": [
    "# Generate review column\n",
    "rating['review']=rating['title']+rating['text']"
   ]
  },
  {
   "cell_type": "code",
   "execution_count": 12,
   "id": "636548d1",
   "metadata": {},
   "outputs": [],
   "source": [
    "# drop 'asin'-'parent_asin' unmatching columns\n",
    "rating = (rating[rating['asin'] == rating['item_id']])\n",
    "rating = rating.drop(columns=['asin', 'title', 'text'])"
   ]
  },
  {
   "cell_type": "code",
   "execution_count": 13,
   "id": "86488a78",
   "metadata": {},
   "outputs": [],
   "source": [
    "# eliminate dups\n",
    "rating=rating.drop_duplicates() #row: 2,171,294"
   ]
  },
  {
   "cell_type": "code",
   "execution_count": 14,
   "id": "db514386",
   "metadata": {},
   "outputs": [],
   "source": [
    "# filtering the data with item_id that is erased in item table\n",
    "items_in_item = item['item_id'].unique()\n",
    "rating=rating[rating['item_id'].isin(items_in_item)]"
   ]
  },
  {
   "cell_type": "code",
   "execution_count": 15,
   "id": "4e3ae388",
   "metadata": {},
   "outputs": [],
   "source": [
    "# delete users that purchased items only once or twice\n",
    "user_counts = rating.groupby('user_id').size()\n",
    "\n",
    "once_users = user_counts[user_counts == 1].index  \n",
    "twice_users = user_counts[user_counts == 2].index\n",
    "\n",
    "rating = rating[~rating['user_id'].isin(once_users)]\n",
    "rating = rating[~rating['user_id'].isin(twice_users)] #row: 268,985"
   ]
  },
  {
   "cell_type": "code",
   "execution_count": 16,
   "id": "cdfebb60",
   "metadata": {},
   "outputs": [],
   "source": [
    "rating = rating.reindex(columns=['user_id', 'item_id', 'rating', 'review'])"
   ]
  },
  {
   "cell_type": "code",
   "execution_count": 17,
   "id": "634936a6",
   "metadata": {},
   "outputs": [],
   "source": [
    "rating.to_csv('rating2.csv', index=False)"
   ]
  },
  {
   "cell_type": "markdown",
   "id": "ceb61a6b",
   "metadata": {},
   "source": [
    "# Item 2차"
   ]
  },
  {
   "cell_type": "code",
   "execution_count": 18,
   "id": "7aca4c10",
   "metadata": {},
   "outputs": [],
   "source": [
    "# filtering items that are NOT included in rating table\n",
    "items_in_rating = rating['item_id'].unique()\n",
    "item = item[item['item_id'].isin(items_in_rating)]"
   ]
  },
  {
   "cell_type": "code",
   "execution_count": 19,
   "id": "743c1ae1",
   "metadata": {},
   "outputs": [],
   "source": [
    "item.to_csv('item2.csv', index=False)"
   ]
  },
  {
   "cell_type": "code",
   "execution_count": 22,
   "id": "3e7fc946",
   "metadata": {},
   "outputs": [
    {
     "data": {
      "text/html": [
       "<div>\n",
       "<style scoped>\n",
       "    .dataframe tbody tr th:only-of-type {\n",
       "        vertical-align: middle;\n",
       "    }\n",
       "\n",
       "    .dataframe tbody tr th {\n",
       "        vertical-align: top;\n",
       "    }\n",
       "\n",
       "    .dataframe thead th {\n",
       "        text-align: right;\n",
       "    }\n",
       "</style>\n",
       "<table border=\"1\" class=\"dataframe\">\n",
       "  <thead>\n",
       "    <tr style=\"text-align: right;\">\n",
       "      <th></th>\n",
       "      <th>user_id</th>\n",
       "      <th>item_id</th>\n",
       "      <th>rating</th>\n",
       "      <th>review</th>\n",
       "    </tr>\n",
       "  </thead>\n",
       "  <tbody>\n",
       "    <tr>\n",
       "      <th>12</th>\n",
       "      <td>AHREXOGQPZDA6354MHH4ETSF3MCQ</td>\n",
       "      <td>B09DQ5M2BB</td>\n",
       "      <td>2</td>\n",
       "      <td>Not what was expectedThere are lots of raw edg...</td>\n",
       "    </tr>\n",
       "    <tr>\n",
       "      <th>13</th>\n",
       "      <td>AHREXOGQPZDA6354MHH4ETSF3MCQ</td>\n",
       "      <td>B095M3HHTJ</td>\n",
       "      <td>5</td>\n",
       "      <td>Nice shirtI really liked this shirt when I rec...</td>\n",
       "    </tr>\n",
       "    <tr>\n",
       "      <th>14</th>\n",
       "      <td>AHREXOGQPZDA6354MHH4ETSF3MCQ</td>\n",
       "      <td>B089PWHFVW</td>\n",
       "      <td>3</td>\n",
       "      <td>Not for the large bustedIf you are large chest...</td>\n",
       "    </tr>\n",
       "    <tr>\n",
       "      <th>15</th>\n",
       "      <td>AHREXOGQPZDA6354MHH4ETSF3MCQ</td>\n",
       "      <td>B097DQPCP2</td>\n",
       "      <td>5</td>\n",
       "      <td>Cute TI really like this Tshirt.  Quality fabr...</td>\n",
       "    </tr>\n",
       "    <tr>\n",
       "      <th>16</th>\n",
       "      <td>AHREXOGQPZDA6354MHH4ETSF3MCQ</td>\n",
       "      <td>B092J4ZT1V</td>\n",
       "      <td>5</td>\n",
       "      <td>So softI received this T the other day.  I too...</td>\n",
       "    </tr>\n",
       "    <tr>\n",
       "      <th>...</th>\n",
       "      <td>...</td>\n",
       "      <td>...</td>\n",
       "      <td>...</td>\n",
       "      <td>...</td>\n",
       "    </tr>\n",
       "    <tr>\n",
       "      <th>2500533</th>\n",
       "      <td>AEUD5NAEIO4DX3AFQZQOEBLZ5ZEA</td>\n",
       "      <td>B00GNFBMZI</td>\n",
       "      <td>4</td>\n",
       "      <td>Four StarsLittle large but as pictured for mos...</td>\n",
       "    </tr>\n",
       "    <tr>\n",
       "      <th>2500534</th>\n",
       "      <td>AEUD5NAEIO4DX3AFQZQOEBLZ5ZEA</td>\n",
       "      <td>B018XGAOIK</td>\n",
       "      <td>5</td>\n",
       "      <td>Really love this romperReally love this romper...</td>\n",
       "    </tr>\n",
       "    <tr>\n",
       "      <th>2500917</th>\n",
       "      <td>AFSZ775MACIF4MBK7YXC7AM35VXQ</td>\n",
       "      <td>B00GQVDUY0</td>\n",
       "      <td>1</td>\n",
       "      <td>would not waste your money on itCHEAP CHEASEY ...</td>\n",
       "    </tr>\n",
       "    <tr>\n",
       "      <th>2500918</th>\n",
       "      <td>AFSZ775MACIF4MBK7YXC7AM35VXQ</td>\n",
       "      <td>B00IYF3YFG</td>\n",
       "      <td>4</td>\n",
       "      <td>love the detailGorgeous necklace, love the det...</td>\n",
       "    </tr>\n",
       "    <tr>\n",
       "      <th>2500919</th>\n",
       "      <td>AFSZ775MACIF4MBK7YXC7AM35VXQ</td>\n",
       "      <td>B00KKHWQM8</td>\n",
       "      <td>4</td>\n",
       "      <td>LOVE IT! Soft, big, fots my galaxy s3 notebook...</td>\n",
       "    </tr>\n",
       "  </tbody>\n",
       "</table>\n",
       "<p>268965 rows × 4 columns</p>\n",
       "</div>"
      ],
      "text/plain": [
       "                              user_id     item_id  rating  \\\n",
       "12       AHREXOGQPZDA6354MHH4ETSF3MCQ  B09DQ5M2BB       2   \n",
       "13       AHREXOGQPZDA6354MHH4ETSF3MCQ  B095M3HHTJ       5   \n",
       "14       AHREXOGQPZDA6354MHH4ETSF3MCQ  B089PWHFVW       3   \n",
       "15       AHREXOGQPZDA6354MHH4ETSF3MCQ  B097DQPCP2       5   \n",
       "16       AHREXOGQPZDA6354MHH4ETSF3MCQ  B092J4ZT1V       5   \n",
       "...                               ...         ...     ...   \n",
       "2500533  AEUD5NAEIO4DX3AFQZQOEBLZ5ZEA  B00GNFBMZI       4   \n",
       "2500534  AEUD5NAEIO4DX3AFQZQOEBLZ5ZEA  B018XGAOIK       5   \n",
       "2500917  AFSZ775MACIF4MBK7YXC7AM35VXQ  B00GQVDUY0       1   \n",
       "2500918  AFSZ775MACIF4MBK7YXC7AM35VXQ  B00IYF3YFG       4   \n",
       "2500919  AFSZ775MACIF4MBK7YXC7AM35VXQ  B00KKHWQM8       4   \n",
       "\n",
       "                                                    review  \n",
       "12       Not what was expectedThere are lots of raw edg...  \n",
       "13       Nice shirtI really liked this shirt when I rec...  \n",
       "14       Not for the large bustedIf you are large chest...  \n",
       "15       Cute TI really like this Tshirt.  Quality fabr...  \n",
       "16       So softI received this T the other day.  I too...  \n",
       "...                                                    ...  \n",
       "2500533  Four StarsLittle large but as pictured for mos...  \n",
       "2500534  Really love this romperReally love this romper...  \n",
       "2500917  would not waste your money on itCHEAP CHEASEY ...  \n",
       "2500918  love the detailGorgeous necklace, love the det...  \n",
       "2500919  LOVE IT! Soft, big, fots my galaxy s3 notebook...  \n",
       "\n",
       "[268965 rows x 4 columns]"
      ]
     },
     "execution_count": 22,
     "metadata": {},
     "output_type": "execute_result"
    }
   ],
   "source": [
    "rating"
   ]
  },
  {
   "cell_type": "markdown",
   "id": "26b11522",
   "metadata": {},
   "source": [
    "# Sentiment Analysis"
   ]
  },
  {
   "cell_type": "code",
   "execution_count": 95,
   "id": "0a28640e",
   "metadata": {},
   "outputs": [],
   "source": [
    "texts=list(rating['review'])"
   ]
  },
  {
   "cell_type": "code",
   "execution_count": 96,
   "id": "7b03adec",
   "metadata": {},
   "outputs": [
    {
     "name": "stderr",
     "output_type": "stream",
     "text": [
      "Device set to use cuda:0\n"
     ]
    }
   ],
   "source": [
    "# Sentiment Analysis model load\n",
    "from transformers import pipeline\n",
    "\n",
    "classifier = pipeline(\"zero-shot-classification\", model=\"facebook/bart-large-mnli\")"
   ]
  },
  {
   "cell_type": "code",
   "execution_count": 97,
   "id": "52fbc3d5",
   "metadata": {},
   "outputs": [],
   "source": [
    "# function definition\n",
    "def sentiment_analysis(classifier, text: str) -> float:\n",
    "    candidate_labels = [\"positive\", \"neutral\", \"negative\"]\n",
    "    result = classifier(text, candidate_labels)\n",
    "    \n",
    "    # choose highest score label\n",
    "    highest = result['scores'].index(max(result['scores']))\n",
    "    \n",
    "    if result['labels'][highest] == 'neutral':\n",
    "        second_highest = sorted(range(len(result['scores'])), key=lambda i: result['scores'][i], reverse=True)[1]\n",
    "        if result['labels'][second_highest]=='positive':\n",
    "            return result['scores'][second_highest]\n",
    "        else:\n",
    "            return -result['scores'][second_highest]\n",
    "    elif result['labels'][highest] == 'positive':\n",
    "        return result['scores'][highest]\n",
    "    else:\n",
    "        return -result['scores'][highest]"
   ]
  },
  {
   "cell_type": "code",
   "execution_count": 98,
   "id": "53cea7ec",
   "metadata": {},
   "outputs": [],
   "source": [
    "#list to save the result\n",
    "sentiment_scores=[]"
   ]
  },
  {
   "cell_type": "code",
   "execution_count": null,
   "id": "9e891a8c",
   "metadata": {},
   "outputs": [
    {
     "name": "stderr",
     "output_type": "stream",
     "text": [
      "You seem to be using the pipelines sequentially on GPU. In order to maximize efficiency please use a dataset\n"
     ]
    }
   ],
   "source": [
    "import time\n",
    "\n",
    "start_time = time.time()\n",
    "\n",
    "for idx, text in enumerate(texts):\n",
    "    sentiment_scores.append(sentiment_analysis(classifier, text))\n",
    "    if (idx+1)%10000==0:\n",
    "        mid_time = time.time()\n",
    "        print(f\"{idx+1} texts are completed, spending time: {mid_time - start_time} seconds\")\n",
    "\n",
    "end_time = time.time()\n",
    "elapsed_time = end_time - start_time\n",
    "print(f\"Total Spending Time: {elapsed_time} seconds\")"
   ]
  },
  {
   "cell_type": "code",
   "execution_count": null,
   "id": "9a39acaf",
   "metadata": {},
   "outputs": [],
   "source": [
    "if len(sentiment_scores)==rating.shape[0]:\n",
    "    rating2=rating.copy()\n",
    "    rating2['sentiment']=sentiment_scores\n",
    "    rating2.to_csv('rating_with_sentiment.csv', index=False)\n",
    "else:\n",
    "    print(len(sentiment_scores), rating.shape[0])"
   ]
  }
 ],
 "metadata": {
  "kernelspec": {
   "display_name": "PyTorch 2.2 (NGC 23.11/Python 3.10) on Backend.AI",
   "language": "python",
   "name": "python3"
  },
  "language_info": {
   "codemirror_mode": {
    "name": "ipython",
    "version": 3
   },
   "file_extension": ".py",
   "mimetype": "text/x-python",
   "name": "python",
   "nbconvert_exporter": "python",
   "pygments_lexer": "ipython3",
   "version": "3.10.12"
  }
 },
 "nbformat": 4,
 "nbformat_minor": 5
}
